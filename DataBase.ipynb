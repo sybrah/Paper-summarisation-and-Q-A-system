{
 "cells": [
  {
   "cell_type": "code",
   "execution_count": 23,
   "id": "f0d45dcb-18ed-4f97-9310-6a822ecfacc2",
   "metadata": {},
   "outputs": [],
   "source": [
    "import os\n",
    "import pandas as pd\n",
    "import sys, pathlib, pymupdf\n",
    "import chromadb\n",
    "import os\n",
    "import torch\n",
    "import tensorflow as tf\n",
    "import PyPDF2\n",
    "from chromadb.utils import embedding_functions\n",
    "from dotenv import load_dotenv\n",
    "from langchain.document_loaders import DirectoryLoader, PyPDFLoader\n",
    "from transformers import pipeline\n",
    "from io import BytesIO\n",
    "from sentence_transformers import SentenceTransformer\n",
    "#from app import from_pdf_to_text\n",
    "import glob \n",
    "import os\n",
    "import fitz  # PyMuPDF for PDF handling\n",
    "import mobi\n",
    "import docx\n",
    "from chromadb.config import Settings"
   ]
  },
  {
   "cell_type": "code",
   "execution_count": 24,
   "id": "35b20f37",
   "metadata": {},
   "outputs": [],
   "source": [
    "load_dotenv()\n",
    "\n",
    "HUGGINGFACEHUB_API_TOKEN = os.getenv(\"HUGGINGFACEHUB_API_KEY\")"
   ]
  },
  {
   "cell_type": "code",
   "execution_count": 39,
   "id": "8a4b4449",
   "metadata": {},
   "outputs": [],
   "source": [
    "CHROMA_DATA_PATH = r\"./embeddings_database\"\n",
    "DATA_DIR = r\"./data\"\n",
    "COLLECTION_NAME = \"AI_related_documents\"\n",
    "EMBED_MODEL = \"google-bert/bert-base-uncased\"\n",
    "\n",
    "EMBED_FUNCTION = embedding_functions.SentenceTransformerEmbeddingFunction(model_name=EMBED_MODEL)\n",
    "\n",
    "client = chromadb.PersistentClient(path = CHROMA_DATA_PATH)\n",
    "collection = client.get_or_create_collection(name=COLLECTION_NAME,embedding_function = EMBED_FUNCTION,metadata={\"hnsw:space\": \"cosine\"},)\n"
   ]
  },
  {
   "cell_type": "code",
   "execution_count": 27,
   "id": "d29a9031",
   "metadata": {},
   "outputs": [],
   "source": [
    "from transformers import BertTokenizer, BertModel  \n",
    "\n",
    "\n",
    "bert_tokenizer = BertTokenizer.from_pretrained(\"google-bert/bert-base-uncased\")\n",
    "bert_model = BertModel.from_pretrained(\"google-bert/bert-base-uncased\")"
   ]
  },
  {
   "cell_type": "code",
   "execution_count": 28,
   "id": "253ad8e8",
   "metadata": {},
   "outputs": [],
   "source": [
    "\n",
    "def get_bert_embedding(text):\n",
    "    \"\"\"Generates an embedding for the given text using BERT.\"\"\"\n",
    "    encoded_text = bert_tokenizer(text, return_tensors=\"pt\", padding=True, truncation=True)\n",
    "    with torch.no_grad(): \n",
    "        outputs = bert_model(**encoded_text)\n",
    "    embeddings = outputs.last_hidden_state[:, 0, :]  \n",
    "    embeddings_list = embeddings.squeeze(0).tolist() \n",
    "    return embeddings_list"
   ]
  },
  {
   "cell_type": "code",
   "execution_count": 29,
   "id": "a9403483",
   "metadata": {},
   "outputs": [
    {
     "name": "stdout",
     "output_type": "stream",
     "text": [
      "['C:/Users/brahe/LLM_QA/Books/ai_data\\\\AI-native_Memory_A_Pathway_from_LLMs_Towards_AGI.pdf', 'C:/Users/brahe/LLM_QA/Books/ai_data\\\\Attention_Is_All_You_Need_But_You_Dont_Need_All_O.pdf', 'C:/Users/brahe/LLM_QA/Books/ai_data\\\\Comparing_sparse_Llama_3_and_Llama_2_models_for_on.pdf', 'C:/Users/brahe/LLM_QA/Books/ai_data\\\\DeepResidualLearningforImageandVideoRecognition.pdf', 'C:/Users/brahe/LLM_QA/Books/ai_data\\\\Hands-On Machine Learning with Scikit-Learn, Keras, and TensorFlow_ Concepts, Tools, and Techniques to Build Intelligent Systems-O’Reilly Media.pdf', \"C:/Users/brahe/LLM_QA/Books/ai_data\\\\Jay  Alammar, Maarten Grootendorst - Hands-On Large Language Models_ Language Understanding and Generation-O'Reilly Media (2024).pdf\", \"C:/Users/brahe/LLM_QA/Books/ai_data\\\\Lewis Tunstall, Leandro von Werra, Thomas Wolf - Natural Language Processing with Transformers-O'Reilly Media (2022).pdf\", 'C:/Users/brahe/LLM_QA/Books/ai_data\\\\Natural language processing for online applications_ text retrieval, extraction and categorization.pdf', \"C:/Users/brahe/LLM_QA/Books/ai_data\\\\Natural Language Processing with Transformers-O'Reilly Media, Inc..pdf\", 'C:/Users/brahe/LLM_QA/Books/ai_data\\\\Nikhil Buduma, Nicholas Locascio - Fundamentals of Deep Learning_ Designing Next-Generation Machine Intelligence Algorithms-O’Reilly Media (2017).pdf', 'C:/Users/brahe/LLM_QA/Books/ai_data\\\\Recommendations_for_machine_learning_validation_in.pdf']\n"
     ]
    }
   ],
   "source": [
    "def extract_text_from_pdf(pdf_path):\n",
    "    with open(pdf_path, 'rb') as file:\n",
    "        reader = PyPDF2.PdfReader(file)\n",
    "        text = \"\"\n",
    "        for page_num in range(len(reader.pages)):\n",
    "            page = reader.pages[page_num]\n",
    "            text += page.extract_text()\n",
    "    return text\n",
    "\n",
    "def chunk_text(text, chunk_size=500):\n",
    "    words = text.split()\n",
    "    chunks = [' '.join(words[i:i + chunk_size]) for i in range(0, len(words), chunk_size)]\n",
    "    return chunks\n",
    "\n",
    "dataset_dir = \"C:/Users/brahe/LLM_QA/Books/ai_data\"\n",
    "datasets = [os.path.join(dataset_dir, f) for f in os.listdir(dataset_dir) if f.endswith('.pdf')]\n",
    "\n",
    "print(datasets)"
   ]
  },
  {
   "cell_type": "code",
   "execution_count": 36,
   "id": "6c52120f",
   "metadata": {},
   "outputs": [
    {
     "name": "stderr",
     "output_type": "stream",
     "text": [
      "Exception occurred invoking consumer for subscription 61c101df93fa46a18dd2c63d673252fdto topic persistent://default/default/cb128511-1852-40cd-a068-633484703b34 'utf-8' codec can't encode character '\\ud835' in position 1236: surrogates not allowed\n",
      "Exception occurred invoking consumer for subscription 61c101df93fa46a18dd2c63d673252fdto topic persistent://default/default/cb128511-1852-40cd-a068-633484703b34 'utf-8' codec can't encode character '\\ud835' in position 2383: surrogates not allowed\n",
      "Exception occurred invoking consumer for subscription 61c101df93fa46a18dd2c63d673252fdto topic persistent://default/default/cb128511-1852-40cd-a068-633484703b34 'utf-8' codec can't encode character '\\ud835' in position 474: surrogates not allowed\n",
      "Exception occurred invoking consumer for subscription 61c101df93fa46a18dd2c63d673252fdto topic persistent://default/default/cb128511-1852-40cd-a068-633484703b34 'utf-8' codec can't encode character '\\ud835' in position 1607: surrogates not allowed\n",
      "Exception occurred invoking consumer for subscription 61c101df93fa46a18dd2c63d673252fdto topic persistent://default/default/cb128511-1852-40cd-a068-633484703b34 'utf-8' codec can't encode character '\\ud835' in position 971: surrogates not allowed\n",
      "Exception occurred invoking consumer for subscription 61c101df93fa46a18dd2c63d673252fdto topic persistent://default/default/cb128511-1852-40cd-a068-633484703b34 'utf-8' codec can't encode character '\\ud835' in position 1174: surrogates not allowed\n",
      "Exception occurred invoking consumer for subscription 61c101df93fa46a18dd2c63d673252fdto topic persistent://default/default/cb128511-1852-40cd-a068-633484703b34 'utf-8' codec can't encode character '\\ud835' in position 341: surrogates not allowed\n",
      "Exception occurred invoking consumer for subscription 61c101df93fa46a18dd2c63d673252fdto topic persistent://default/default/cb128511-1852-40cd-a068-633484703b34 'utf-8' codec can't encode character '\\ud835' in position 667: surrogates not allowed\n",
      "Exception occurred invoking consumer for subscription 61c101df93fa46a18dd2c63d673252fdto topic persistent://default/default/cb128511-1852-40cd-a068-633484703b34 'utf-8' codec can't encode characters in position 349-350: surrogates not allowed\n",
      "Exception occurred invoking consumer for subscription 61c101df93fa46a18dd2c63d673252fdto topic persistent://default/default/cb128511-1852-40cd-a068-633484703b34 'utf-8' codec can't encode character '\\ud835' in position 134: surrogates not allowed\n",
      "Exception occurred invoking consumer for subscription 61c101df93fa46a18dd2c63d673252fdto topic persistent://default/default/cb128511-1852-40cd-a068-633484703b34 'utf-8' codec can't encode character '\\ud835' in position 1455: surrogates not allowed\n",
      "Exception occurred invoking consumer for subscription 61c101df93fa46a18dd2c63d673252fdto topic persistent://default/default/cb128511-1852-40cd-a068-633484703b34 'utf-8' codec can't encode character '\\ud835' in position 2633: surrogates not allowed\n",
      "Exception occurred invoking consumer for subscription 61c101df93fa46a18dd2c63d673252fdto topic persistent://default/default/cb128511-1852-40cd-a068-633484703b34 'utf-8' codec can't encode character '\\ud835' in position 1669: surrogates not allowed\n",
      "Exception occurred invoking consumer for subscription 61c101df93fa46a18dd2c63d673252fdto topic persistent://default/default/cb128511-1852-40cd-a068-633484703b34 'utf-8' codec can't encode character '\\ud835' in position 3058: surrogates not allowed\n",
      "Exception occurred invoking consumer for subscription 61c101df93fa46a18dd2c63d673252fdto topic persistent://default/default/cb128511-1852-40cd-a068-633484703b34 'utf-8' codec can't encode character '\\ud835' in position 204: surrogates not allowed\n",
      "Exception occurred invoking consumer for subscription 61c101df93fa46a18dd2c63d673252fdto topic persistent://default/default/cb128511-1852-40cd-a068-633484703b34 'utf-8' codec can't encode character '\\ud835' in position 1092: surrogates not allowed\n",
      "Exception occurred invoking consumer for subscription 61c101df93fa46a18dd2c63d673252fdto topic persistent://default/default/cb128511-1852-40cd-a068-633484703b34 'utf-8' codec can't encode character '\\ud835' in position 3095: surrogates not allowed\n",
      "Exception occurred invoking consumer for subscription 61c101df93fa46a18dd2c63d673252fdto topic persistent://default/default/cb128511-1852-40cd-a068-633484703b34 'utf-8' codec can't encode character '\\ud835' in position 1006: surrogates not allowed\n",
      "Exception occurred invoking consumer for subscription 61c101df93fa46a18dd2c63d673252fdto topic persistent://default/default/cb128511-1852-40cd-a068-633484703b34 'utf-8' codec can't encode character '\\ud835' in position 349: surrogates not allowed\n",
      "Exception occurred invoking consumer for subscription 61c101df93fa46a18dd2c63d673252fdto topic persistent://default/default/cb128511-1852-40cd-a068-633484703b34 'utf-8' codec can't encode character '\\ud835' in position 2262: surrogates not allowed\n",
      "Exception occurred invoking consumer for subscription 61c101df93fa46a18dd2c63d673252fdto topic persistent://default/default/cb128511-1852-40cd-a068-633484703b34 'utf-8' codec can't encode character '\\ud835' in position 129: surrogates not allowed\n",
      "Exception occurred invoking consumer for subscription 61c101df93fa46a18dd2c63d673252fdto topic persistent://default/default/cb128511-1852-40cd-a068-633484703b34 'utf-8' codec can't encode character '\\ud835' in position 469: surrogates not allowed\n",
      "Exception occurred invoking consumer for subscription 61c101df93fa46a18dd2c63d673252fdto topic persistent://default/default/cb128511-1852-40cd-a068-633484703b34 'utf-8' codec can't encode character '\\ud835' in position 1421: surrogates not allowed\n",
      "Exception occurred invoking consumer for subscription 61c101df93fa46a18dd2c63d673252fdto topic persistent://default/default/cb128511-1852-40cd-a068-633484703b34 'utf-8' codec can't encode character '\\ud835' in position 1349: surrogates not allowed\n",
      "Exception occurred invoking consumer for subscription 61c101df93fa46a18dd2c63d673252fdto topic persistent://default/default/cb128511-1852-40cd-a068-633484703b34 'utf-8' codec can't encode character '\\ud835' in position 1935: surrogates not allowed\n",
      "Exception occurred invoking consumer for subscription 61c101df93fa46a18dd2c63d673252fdto topic persistent://default/default/cb128511-1852-40cd-a068-633484703b34 'utf-8' codec can't encode character '\\ud835' in position 1455: surrogates not allowed\n",
      "Exception occurred invoking consumer for subscription 61c101df93fa46a18dd2c63d673252fdto topic persistent://default/default/cb128511-1852-40cd-a068-633484703b34 'utf-8' codec can't encode character '\\ud835' in position 2423: surrogates not allowed\n",
      "Exception occurred invoking consumer for subscription 61c101df93fa46a18dd2c63d673252fdto topic persistent://default/default/cb128511-1852-40cd-a068-633484703b34 'utf-8' codec can't encode character '\\ud835' in position 1958: surrogates not allowed\n",
      "Exception occurred invoking consumer for subscription 61c101df93fa46a18dd2c63d673252fdto topic persistent://default/default/cb128511-1852-40cd-a068-633484703b34 'utf-8' codec can't encode character '\\ud835' in position 1961: surrogates not allowed\n",
      "Exception occurred invoking consumer for subscription 61c101df93fa46a18dd2c63d673252fdto topic persistent://default/default/cb128511-1852-40cd-a068-633484703b34 'utf-8' codec can't encode character '\\ud835' in position 2214: surrogates not allowed\n",
      "Exception occurred invoking consumer for subscription 61c101df93fa46a18dd2c63d673252fdto topic persistent://default/default/cb128511-1852-40cd-a068-633484703b34 'utf-8' codec can't encode character '\\ud835' in position 490: surrogates not allowed\n",
      "Exception occurred invoking consumer for subscription 61c101df93fa46a18dd2c63d673252fdto topic persistent://default/default/cb128511-1852-40cd-a068-633484703b34 'utf-8' codec can't encode character '\\udd3c' in position 1290: surrogates not allowed\n",
      "Exception occurred invoking consumer for subscription 61c101df93fa46a18dd2c63d673252fdto topic persistent://default/default/cb128511-1852-40cd-a068-633484703b34 'utf-8' codec can't encode character '\\ud835' in position 7: surrogates not allowed\n",
      "Exception occurred invoking consumer for subscription 61c101df93fa46a18dd2c63d673252fdto topic persistent://default/default/cb128511-1852-40cd-a068-633484703b34 'utf-8' codec can't encode character '\\ud835' in position 224: surrogates not allowed\n",
      "Exception occurred invoking consumer for subscription 61c101df93fa46a18dd2c63d673252fdto topic persistent://default/default/cb128511-1852-40cd-a068-633484703b34 'utf-8' codec can't encode character '\\ud835' in position 1781: surrogates not allowed\n",
      "Exception occurred invoking consumer for subscription 61c101df93fa46a18dd2c63d673252fdto topic persistent://default/default/cb128511-1852-40cd-a068-633484703b34 'utf-8' codec can't encode character '\\udc9e' in position 963: surrogates not allowed\n",
      "Exception occurred invoking consumer for subscription 61c101df93fa46a18dd2c63d673252fdto topic persistent://default/default/cb128511-1852-40cd-a068-633484703b34 'utf-8' codec can't encode character '\\udc9e' in position 2684: surrogates not allowed\n",
      "Exception occurred invoking consumer for subscription 61c101df93fa46a18dd2c63d673252fdto topic persistent://default/default/cb128511-1852-40cd-a068-633484703b34 'utf-8' codec can't encode character '\\udc9e' in position 2486: surrogates not allowed\n",
      "Exception occurred invoking consumer for subscription 61c101df93fa46a18dd2c63d673252fdto topic persistent://default/default/cb128511-1852-40cd-a068-633484703b34 'utf-8' codec can't encode character '\\udc9e' in position 2762: surrogates not allowed\n",
      "Exception occurred invoking consumer for subscription 61c101df93fa46a18dd2c63d673252fdto topic persistent://default/default/cb128511-1852-40cd-a068-633484703b34 'utf-8' codec can't encode character '\\udca9' in position 1612: surrogates not allowed\n",
      "Exception occurred invoking consumer for subscription 61c101df93fa46a18dd2c63d673252fdto topic persistent://default/default/cb128511-1852-40cd-a068-633484703b34 'utf-8' codec can't encode character '\\udca9' in position 777: surrogates not allowed\n",
      "Exception occurred invoking consumer for subscription 61c101df93fa46a18dd2c63d673252fdto topic persistent://default/default/cb128511-1852-40cd-a068-633484703b34 'utf-8' codec can't encode character '\\ud835' in position 841: surrogates not allowed\n"
     ]
    }
   ],
   "source": [
    "for pdf_path in datasets:\n",
    "    pdf_text = extract_text_from_pdf(pdf_path)    \n",
    "    text_chunks = chunk_text(pdf_text)    \n",
    "    i = 0\n",
    "    for chunk in text_chunks:\n",
    "        i += 1\n",
    "        chunk_id = os.path.basename(pdf_path) + f\"_{i}\"\n",
    "        embeddings =get_bert_embedding(chunk)        \n",
    "        metadata = {\"file_name\": os.path.basename(pdf_path) + f\"_{i}\"}  # Append i as string\n",
    "        collection.add(\n",
    "            documents=[chunk],    # Single document chunk\n",
    "            embeddings=embeddings, # Single embedding for this chunk\n",
    "            metadatas=[metadata] ,  # Metadata for the chunk\n",
    "            ids=[chunk_id] \n",
    "        )\n"
   ]
  },
  {
   "cell_type": "code",
   "execution_count": 37,
   "id": "0d29f183",
   "metadata": {},
   "outputs": [
    {
     "data": {
      "text/plain": [
       "1564"
      ]
     },
     "execution_count": 37,
     "metadata": {},
     "output_type": "execute_result"
    }
   ],
   "source": [
    "collection.count()\n"
   ]
  },
  {
   "cell_type": "code",
   "execution_count": 42,
   "id": "b2061073",
   "metadata": {},
   "outputs": [
    {
     "ename": "LookupError",
     "evalue": "unknown encoding: Attention mechanism",
     "output_type": "error",
     "traceback": [
      "\u001b[1;31m---------------------------------------------------------------------------\u001b[0m",
      "\u001b[1;31mLookupError\u001b[0m                               Traceback (most recent call last)",
      "Cell \u001b[1;32mIn[42], line 11\u001b[0m\n\u001b[0;32m      8\u001b[0m     \u001b[38;5;28;01mreturn\u001b[39;00m results\n\u001b[0;32m     10\u001b[0m query \u001b[38;5;241m=\u001b[39m \u001b[38;5;124m\"\u001b[39m\u001b[38;5;124mAttention mechanism\u001b[39m\u001b[38;5;124m\"\u001b[39m\n\u001b[1;32m---> 11\u001b[0m results \u001b[38;5;241m=\u001b[39m \u001b[43mperform_similarity_search\u001b[49m\u001b[43m(\u001b[49m\u001b[43mquery\u001b[49m\u001b[43m)\u001b[49m\n\u001b[0;32m     13\u001b[0m \u001b[38;5;66;03m# Output search results\u001b[39;00m\n\u001b[0;32m     14\u001b[0m \u001b[38;5;28;01mfor\u001b[39;00m result \u001b[38;5;129;01min\u001b[39;00m results[\u001b[38;5;124m\"\u001b[39m\u001b[38;5;124mdocuments\u001b[39m\u001b[38;5;124m\"\u001b[39m]:\n",
      "Cell \u001b[1;32mIn[42], line 2\u001b[0m, in \u001b[0;36mperform_similarity_search\u001b[1;34m(query, top_k)\u001b[0m\n\u001b[0;32m      1\u001b[0m \u001b[38;5;28;01mdef\u001b[39;00m \u001b[38;5;21mperform_similarity_search\u001b[39m(query, top_k\u001b[38;5;241m=\u001b[39m\u001b[38;5;241m5\u001b[39m):\n\u001b[1;32m----> 2\u001b[0m     query_embedding \u001b[38;5;241m=\u001b[39m \u001b[43mEMBED_MODEL\u001b[49m\u001b[38;5;241;43m.\u001b[39;49m\u001b[43mencode\u001b[49m\u001b[43m(\u001b[49m\u001b[43mquery\u001b[49m\u001b[43m)\u001b[49m  \n\u001b[0;32m      3\u001b[0m     results \u001b[38;5;241m=\u001b[39m collection\u001b[38;5;241m.\u001b[39mquery(\n\u001b[0;32m      4\u001b[0m         query_embeddings\u001b[38;5;241m=\u001b[39m[query_embedding], \n\u001b[0;32m      5\u001b[0m         n_results\u001b[38;5;241m=\u001b[39mtop_k\n\u001b[0;32m      6\u001b[0m     )\n\u001b[0;32m      8\u001b[0m     \u001b[38;5;28;01mreturn\u001b[39;00m results\n",
      "\u001b[1;31mLookupError\u001b[0m: unknown encoding: Attention mechanism"
     ]
    }
   ],
   "source": [
    "def perform_similarity_search(query, top_k=5):\n",
    "    query_embedding = EMBED_MODEL.encode(query)  \n",
    "    results = collection.query(\n",
    "        query_embeddings=[query_embedding], \n",
    "        n_results=top_k\n",
    "    )\n",
    "    \n",
    "    return results\n",
    "\n",
    "query = \"Attention mechanism\"\n",
    "results = perform_similarity_search(query)\n",
    "\n",
    "# Output search results\n",
    "for result in results[\"documents\"]:\n",
    "    print(\"Matching Document:\", result)\n"
   ]
  },
  {
   "cell_type": "code",
   "execution_count": null,
   "id": "aaf526fc",
   "metadata": {},
   "outputs": [],
   "source": []
  }
 ],
 "metadata": {
  "kernelspec": {
   "display_name": "Python 3",
   "language": "python",
   "name": "python3"
  },
  "language_info": {
   "codemirror_mode": {
    "name": "ipython",
    "version": 3
   },
   "file_extension": ".py",
   "mimetype": "text/x-python",
   "name": "python",
   "nbconvert_exporter": "python",
   "pygments_lexer": "ipython3",
   "version": "3.11.2"
  }
 },
 "nbformat": 4,
 "nbformat_minor": 5
}
